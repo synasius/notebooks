{
 "cells": [
  {
   "cell_type": "code",
   "execution_count": null,
   "metadata": {},
   "outputs": [],
   "source": [
    "from bokeh.plotting import figure, output_notebook, show\n",
    "\n",
    "from shapely.geometry import LineString, Point\n",
    "\n",
    "output_notebook()"
   ]
  },
  {
   "cell_type": "code",
   "execution_count": null,
   "metadata": {
    "collapsed": true
   },
   "outputs": [],
   "source": [
    "def draw(title, segment, recording, projected=None):\n",
    "    p = figure(title=title)\n",
    "\n",
    "    x, y = segment.coords.xy\n",
    "    p.line(x, y, line_width=3, line_color=\"#ffe38c\", legend=\"segment\")\n",
    "    p.circle(x, y, radius=0.05, line_width=3, line_color=\"#ffe38c\", fill_color=\"white\", legend=\"segment\")\n",
    "\n",
    "    x, y = recording.coords.xy\n",
    "    p.line(x, y, line_width=3, line_color=\"#8cd8ff\", legend=\"recording\")\n",
    "    p.circle(x, y, radius=0.05, line_width=3, line_color=\"#8cd8ff\", fill_color=\"white\", legend=\"recording\")\n",
    "\n",
    "    if projected is not None:\n",
    "        x, y = projected.coords.xy\n",
    "        p.line(x, y, line_width=1, line_color=\"#aa0011\", legend=\"projected\")\n",
    "        p.circle(x, y, radius=0.05, line_width=1, line_color=\"#aa0011\", fill_color=\"white\", legend=\"projected\")\n",
    "    \n",
    "    p.legend.background_fill_alpha = 0.7\n",
    "    show(p)"
   ]
  },
  {
   "cell_type": "code",
   "execution_count": null,
   "metadata": {},
   "outputs": [],
   "source": [
    "segment = LineString([(1,2), (3,-2), (5.7, 3.8), (9,10), (6,3)])\n",
    "recording = LineString([(1.1, 2.2), (2.9, -1.8), (9.5, 10), (6.3, 3.5)])\n",
    "\n",
    "draw(\"segment and recording\", segment, recording)"
   ]
  },
  {
   "cell_type": "code",
   "execution_count": null,
   "metadata": {},
   "outputs": [],
   "source": [
    "def bad_path_projection(recording, segment):\n",
    "    projected = []\n",
    "    for p in segment.coords:\n",
    "        point_proj = recording.interpolate(recording.project(Point(p)))\n",
    "        projected.append(point_proj)\n",
    "\n",
    "    return LineString(projected)\n",
    "\n",
    "\n",
    "projected = bad_path_projection(recording, segment)\n",
    "draw(\"wrong segment projection\", segment, recording, projected)"
   ]
  },
  {
   "cell_type": "code",
   "execution_count": null,
   "metadata": {
    "collapsed": true
   },
   "outputs": [],
   "source": [
    "from itertools import tee\n",
    "\n",
    "\n",
    "def pairwise(iterable):\n",
    "    \"s -> (s0,s1), (s1,s2), (s2, s3), ...\"\n",
    "    a, b = tee(iterable)\n",
    "    next(b, None)\n",
    "    return zip(a, b)\n",
    "\n",
    "\n",
    "def correct_path_projection(recording, segment):\n",
    "    projected = []\n",
    "    \n",
    "    recording = pairwise(recording.coords)\n",
    "    \n",
    "    # this is the first couple of points of the recording\n",
    "    sec = LineString(next(recording))\n",
    "    \n",
    "    previous_distance = -1\n",
    "    for point in segment.coords:\n",
    "        while True:            \n",
    "            distance = sec.project(Point(point), normalized=True)\n",
    "            if distance >= 1.0 or distance < previous_distance:\n",
    "                # move to the next couple of points\n",
    "                try: \n",
    "                    sec = LineString(next(recording))\n",
    "                    \n",
    "                    # we must reset the previous distance\n",
    "                    # because it only makes sense for the \n",
    "                    # previous couple of points\n",
    "                    previous_distance = -1\n",
    "                    \n",
    "                    continue\n",
    "                except StopIteration:\n",
    "                    # its the last couple\n",
    "                    pass\n",
    "\n",
    "            projected.append(sec.interpolate(distance, normalized=True))\n",
    "            previous_distance = distance\n",
    "            \n",
    "            # stop the inner loop to move to next point in the segment\n",
    "            break\n",
    "    \n",
    "    return LineString(projected)"
   ]
  },
  {
   "cell_type": "code",
   "execution_count": null,
   "metadata": {},
   "outputs": [],
   "source": [
    "projected = correct_path_projection(recording, segment)\n",
    "draw(\"correct segment projection\", segment, recording, projected)"
   ]
  }
 ],
 "metadata": {
  "kernelspec": {
   "display_name": "Python 3",
   "language": "python",
   "name": "python3"
  },
  "language_info": {
   "codemirror_mode": {
    "name": "ipython",
    "version": 3
   },
   "file_extension": ".py",
   "mimetype": "text/x-python",
   "name": "python",
   "nbconvert_exporter": "python",
   "pygments_lexer": "ipython3",
   "version": "3.5.3"
  }
 },
 "nbformat": 4,
 "nbformat_minor": 2
}
