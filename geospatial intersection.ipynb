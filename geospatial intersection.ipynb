{
 "cells": [
  {
   "cell_type": "code",
   "execution_count": 43,
   "metadata": {},
   "outputs": [],
   "source": [
    "norw1 = \"LINESTRING(12.53814697265625 64.82149137831723,12.807312011718752 64.8973372258312)\"\n",
    "norw2 = \"LINESTRING(12.5189208984375 64.90199767761072,12.74688720703125 64.81915426595168)\"\n",
    "\n",
    "pg1 = \"LINESTRING(12.369232177734373 43.0869433381132,12.385711669921875 43.1085027333088)\"\n",
    "pg2 = \"LINESTRING(12.360992431640623 43.10298826174051,12.392578124999998 43.08995208151043)\"\n",
    "\n",
    "data = [norw1, norw2]"
   ]
  },
  {
   "cell_type": "code",
   "execution_count": 44,
   "metadata": {},
   "outputs": [
    {
     "data": {
      "text/plain": [
       "'POINT (12.6520982059773 64.85360077817317)'"
      ]
     },
     "execution_count": 44,
     "metadata": {},
     "output_type": "execute_result"
    }
   ],
   "source": [
    "import shapely.wkt\n",
    "from shapely.geometry import LineString\n",
    "\n",
    "l1 = shapely.wkt.loads(data[0])\n",
    "l2 = shapely.wkt.loads(data[1])\n",
    "\n",
    "p1 = l1.intersection(l2)\n",
    "p1.wkt\n"
   ]
  },
  {
   "cell_type": "code",
   "execution_count": 45,
   "metadata": {},
   "outputs": [
    {
     "data": {
      "text/plain": [
       "'POINT (12.65210578058118 64.85362902854682)'"
      ]
     },
     "execution_count": 45,
     "metadata": {},
     "output_type": "execute_result"
    }
   ],
   "source": [
    "from shapely.ops import transform\n",
    "from functools import partial\n",
    "import pyproj\n",
    "\n",
    "to_web_mercator = partial(\n",
    "    pyproj.transform,\n",
    "    pyproj.Proj(init='epsg:4326'),\n",
    "    pyproj.Proj(init='epsg:3857'))\n",
    "\n",
    "to_4326 = partial(\n",
    "    pyproj.transform,\n",
    "    pyproj.Proj(init='epsg:3857'),\n",
    "    pyproj.Proj(init='epsg:4326'))\n",
    "\n",
    "import shapely.wkt\n",
    "from shapely.geometry import LineString\n",
    "\n",
    "l1 = shapely.wkt.loads(data[0])\n",
    "l2 = shapely.wkt.loads(data[1])\n",
    "\n",
    "l1 = transform(to_web_mercator, l1)\n",
    "l2 = transform(to_web_mercator, l2)\n",
    "\n",
    "p2 = l1.intersection(l2)\n",
    "\n",
    "p2 = transform(to_4326, p2)\n",
    "p2.wkt\n"
   ]
  },
  {
   "cell_type": "code",
   "execution_count": 46,
   "metadata": {},
   "outputs": [
    {
     "data": {
      "text/plain": [
       "(6.507781006270764, -173.4922121370078, 3.1700720059267375)"
      ]
     },
     "execution_count": 46,
     "metadata": {},
     "output_type": "execute_result"
    }
   ],
   "source": [
    "from pyproj import Geod\n",
    "geod = Geod(ellps=\"WGS84\")\n",
    "\n",
    "geod.inv(p1.x, p1.y, p2.x, p2.y)"
   ]
  }
 ],
 "metadata": {
  "kernelspec": {
   "display_name": "Python 3",
   "language": "python",
   "name": "python3"
  },
  "language_info": {
   "codemirror_mode": {
    "name": "ipython",
    "version": 3
   },
   "file_extension": ".py",
   "mimetype": "text/x-python",
   "name": "python",
   "nbconvert_exporter": "python",
   "pygments_lexer": "ipython3",
   "version": "3.7.3"
  }
 },
 "nbformat": 4,
 "nbformat_minor": 2
}
